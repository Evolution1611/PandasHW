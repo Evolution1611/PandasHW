{
 "cells": [
  {
   "cell_type": "code",
   "execution_count": 3,
   "id": "0e440696",
   "metadata": {},
   "outputs": [],
   "source": [
    "import pandas as pd"
   ]
  },
  {
   "cell_type": "code",
   "execution_count": null,
   "id": "556c25d3",
   "metadata": {},
   "outputs": [],
   "source": [
    "# Открываем файл и облегчаем типы данных для уменьшения объема используемой памяти:"
   ]
  },
  {
   "cell_type": "code",
   "execution_count": 6,
   "id": "c9bf47e9",
   "metadata": {},
   "outputs": [],
   "source": [
    "train = pd.read_csv('C:\\\\Users\\\\shere\\\\OneDrive\\\\Рабочий стол\\\\MFTI\\\\Python\\\\HW 3 - Pandas\\\\train-001.csv', sep=',', index_col=0,\n",
    "                       dtype = {'row_id': 'int64', 'timestamp': 'int64', 'user_id': 'int32', 'content_id': 'int16', \n",
    "                                'content_type_id': 'int8', 'task_container_id': 'int16', 'user_answer': 'int8', \n",
    "                                'answered_correctly': 'int8', 'prior_question_elapsed_time': 'float32', \n",
    "                                'prior_question_had_explanation': 'boolean'\n",
    "                               }\n",
    "                      )"
   ]
  },
  {
   "cell_type": "code",
   "execution_count": 7,
   "id": "4e3d3b42",
   "metadata": {},
   "outputs": [
    {
     "name": "stdout",
     "output_type": "stream",
     "text": [
      "<class 'pandas.core.frame.DataFrame'>\n",
      "Int64Index: 101230332 entries, 0 to 101230331\n",
      "Data columns (total 9 columns):\n",
      " #   Column                          Dtype  \n",
      "---  ------                          -----  \n",
      " 0   timestamp                       int64  \n",
      " 1   user_id                         int32  \n",
      " 2   content_id                      int16  \n",
      " 3   content_type_id                 int8   \n",
      " 4   task_container_id               int16  \n",
      " 5   user_answer                     int8   \n",
      " 6   answered_correctly              int8   \n",
      " 7   prior_question_elapsed_time     float32\n",
      " 8   prior_question_had_explanation  boolean\n",
      "dtypes: boolean(1), float32(1), int16(2), int32(1), int64(1), int8(3)\n",
      "memory usage: 3.1 GB\n"
     ]
    }
   ],
   "source": [
    "train.info()"
   ]
  },
  {
   "cell_type": "code",
   "execution_count": 8,
   "id": "a8972bae",
   "metadata": {},
   "outputs": [],
   "source": [
    "# Смотрим, какие есть данные в колонках"
   ]
  },
  {
   "cell_type": "code",
   "execution_count": 9,
   "id": "edd924d5",
   "metadata": {},
   "outputs": [
    {
     "data": {
      "text/html": [
       "<div>\n",
       "<style scoped>\n",
       "    .dataframe tbody tr th:only-of-type {\n",
       "        vertical-align: middle;\n",
       "    }\n",
       "\n",
       "    .dataframe tbody tr th {\n",
       "        vertical-align: top;\n",
       "    }\n",
       "\n",
       "    .dataframe thead th {\n",
       "        text-align: right;\n",
       "    }\n",
       "</style>\n",
       "<table border=\"1\" class=\"dataframe\">\n",
       "  <thead>\n",
       "    <tr style=\"text-align: right;\">\n",
       "      <th></th>\n",
       "      <th>timestamp</th>\n",
       "      <th>user_id</th>\n",
       "      <th>content_id</th>\n",
       "      <th>content_type_id</th>\n",
       "      <th>task_container_id</th>\n",
       "      <th>user_answer</th>\n",
       "      <th>answered_correctly</th>\n",
       "      <th>prior_question_elapsed_time</th>\n",
       "      <th>prior_question_had_explanation</th>\n",
       "    </tr>\n",
       "    <tr>\n",
       "      <th>row_id</th>\n",
       "      <th></th>\n",
       "      <th></th>\n",
       "      <th></th>\n",
       "      <th></th>\n",
       "      <th></th>\n",
       "      <th></th>\n",
       "      <th></th>\n",
       "      <th></th>\n",
       "      <th></th>\n",
       "    </tr>\n",
       "  </thead>\n",
       "  <tbody>\n",
       "    <tr>\n",
       "      <th>0</th>\n",
       "      <td>0</td>\n",
       "      <td>115</td>\n",
       "      <td>5692</td>\n",
       "      <td>0</td>\n",
       "      <td>1</td>\n",
       "      <td>3</td>\n",
       "      <td>1</td>\n",
       "      <td>NaN</td>\n",
       "      <td>&lt;NA&gt;</td>\n",
       "    </tr>\n",
       "    <tr>\n",
       "      <th>1</th>\n",
       "      <td>56943</td>\n",
       "      <td>115</td>\n",
       "      <td>5716</td>\n",
       "      <td>0</td>\n",
       "      <td>2</td>\n",
       "      <td>2</td>\n",
       "      <td>1</td>\n",
       "      <td>37000.0</td>\n",
       "      <td>False</td>\n",
       "    </tr>\n",
       "    <tr>\n",
       "      <th>2</th>\n",
       "      <td>118363</td>\n",
       "      <td>115</td>\n",
       "      <td>128</td>\n",
       "      <td>0</td>\n",
       "      <td>0</td>\n",
       "      <td>0</td>\n",
       "      <td>1</td>\n",
       "      <td>55000.0</td>\n",
       "      <td>False</td>\n",
       "    </tr>\n",
       "    <tr>\n",
       "      <th>3</th>\n",
       "      <td>131167</td>\n",
       "      <td>115</td>\n",
       "      <td>7860</td>\n",
       "      <td>0</td>\n",
       "      <td>3</td>\n",
       "      <td>0</td>\n",
       "      <td>1</td>\n",
       "      <td>19000.0</td>\n",
       "      <td>False</td>\n",
       "    </tr>\n",
       "    <tr>\n",
       "      <th>4</th>\n",
       "      <td>137965</td>\n",
       "      <td>115</td>\n",
       "      <td>7922</td>\n",
       "      <td>0</td>\n",
       "      <td>4</td>\n",
       "      <td>1</td>\n",
       "      <td>1</td>\n",
       "      <td>11000.0</td>\n",
       "      <td>False</td>\n",
       "    </tr>\n",
       "  </tbody>\n",
       "</table>\n",
       "</div>"
      ],
      "text/plain": [
       "        timestamp  user_id  content_id  content_type_id  task_container_id  \\\n",
       "row_id                                                                       \n",
       "0               0      115        5692                0                  1   \n",
       "1           56943      115        5716                0                  2   \n",
       "2          118363      115         128                0                  0   \n",
       "3          131167      115        7860                0                  3   \n",
       "4          137965      115        7922                0                  4   \n",
       "\n",
       "        user_answer  answered_correctly  prior_question_elapsed_time  \\\n",
       "row_id                                                                 \n",
       "0                 3                   1                          NaN   \n",
       "1                 2                   1                      37000.0   \n",
       "2                 0                   1                      55000.0   \n",
       "3                 0                   1                      19000.0   \n",
       "4                 1                   1                      11000.0   \n",
       "\n",
       "        prior_question_had_explanation  \n",
       "row_id                                  \n",
       "0                                 <NA>  \n",
       "1                                False  \n",
       "2                                False  \n",
       "3                                False  \n",
       "4                                False  "
      ]
     },
     "execution_count": 9,
     "metadata": {},
     "output_type": "execute_result"
    }
   ],
   "source": [
    "train.head()"
   ]
  },
  {
   "cell_type": "code",
   "execution_count": 11,
   "id": "6404fe41",
   "metadata": {},
   "outputs": [],
   "source": [
    "#TRAIN.CSV\n",
    "#row_id: (int64) ID code for the row.\n",
    "#timestamp: (int64) the time in milliseconds between this user interaction and the first event completion from that user.\n",
    "#user_id: (int32) ID code for the user.\n",
    "#content_id: (int16) ID code for the user interaction\n",
    "#content_type_id: (int8) 0 if the event was a question being posed to the user, 1 if the event was the user watching a lecture.\n",
    "#task_container_id: (int16) Id code for the batch of questions or lectures. For example, a user might see three questions in a row before seeing the explanations for any of them. Those three would all share a task_container_id.\n",
    "#user_answer: (int8) the user's answer to the question, if any. Read -1 as null, for lectures.\n",
    "#answered_correctly: (int8) if the user responded correctly. Read -1 as null, for lectures.\n",
    "#prior_question_elapsed_time: (float32) The average time in milliseconds it took a user to answer each question in the previous question bundle, ignoring any lectures in between. Is null for a user's first question bundle or lecture. Note that the time is the average time a user took to solve each question in the previous bundle.\n",
    "#prior_question_had_explanation: (bool) Whether or not the user saw an explanation and the correct response(s) after answering the previous question bundle, ignoring any lectures in between. The value is shared across a single question bundle, and is null for a user's first question bundle or lecture. Typically the first several questions a user sees were part of an onboarding diagnostic test where they did not get any feedback."
   ]
  },
  {
   "cell_type": "code",
   "execution_count": null,
   "id": "86a5dc27",
   "metadata": {},
   "outputs": [],
   "source": [
    "# Посмотрим разброс данных в каждой категории и средние значения "
   ]
  },
  {
   "cell_type": "code",
   "execution_count": 53,
   "id": "f8612cfd",
   "metadata": {},
   "outputs": [
    {
     "data": {
      "text/plain": [
       "252.17778974536142"
      ]
     },
     "execution_count": 53,
     "metadata": {},
     "output_type": "execute_result"
    }
   ],
   "source": [
    "train[train['content_type_id'] == 0].shape[0] / train['user_id'].nunique()"
   ]
  },
  {
   "cell_type": "code",
   "execution_count": 12,
   "id": "8ae801af",
   "metadata": {
    "scrolled": true
   },
   "outputs": [
    {
     "data": {
      "text/html": [
       "<div>\n",
       "<style scoped>\n",
       "    .dataframe tbody tr th:only-of-type {\n",
       "        vertical-align: middle;\n",
       "    }\n",
       "\n",
       "    .dataframe tbody tr th {\n",
       "        vertical-align: top;\n",
       "    }\n",
       "\n",
       "    .dataframe thead th {\n",
       "        text-align: right;\n",
       "    }\n",
       "</style>\n",
       "<table border=\"1\" class=\"dataframe\">\n",
       "  <thead>\n",
       "    <tr style=\"text-align: right;\">\n",
       "      <th></th>\n",
       "      <th>Column_Name</th>\n",
       "      <th>Num_Unique</th>\n",
       "      <th>Type</th>\n",
       "    </tr>\n",
       "  </thead>\n",
       "  <tbody>\n",
       "    <tr>\n",
       "      <th>0</th>\n",
       "      <td>content_type_id</td>\n",
       "      <td>2</td>\n",
       "      <td>int8</td>\n",
       "    </tr>\n",
       "    <tr>\n",
       "      <th>1</th>\n",
       "      <td>prior_question_had_explanation</td>\n",
       "      <td>2</td>\n",
       "      <td>boolean</td>\n",
       "    </tr>\n",
       "    <tr>\n",
       "      <th>2</th>\n",
       "      <td>answered_correctly</td>\n",
       "      <td>3</td>\n",
       "      <td>int8</td>\n",
       "    </tr>\n",
       "    <tr>\n",
       "      <th>3</th>\n",
       "      <td>user_answer</td>\n",
       "      <td>5</td>\n",
       "      <td>int8</td>\n",
       "    </tr>\n",
       "    <tr>\n",
       "      <th>4</th>\n",
       "      <td>prior_question_elapsed_time</td>\n",
       "      <td>3258</td>\n",
       "      <td>float32</td>\n",
       "    </tr>\n",
       "    <tr>\n",
       "      <th>5</th>\n",
       "      <td>task_container_id</td>\n",
       "      <td>10000</td>\n",
       "      <td>int16</td>\n",
       "    </tr>\n",
       "    <tr>\n",
       "      <th>6</th>\n",
       "      <td>content_id</td>\n",
       "      <td>13782</td>\n",
       "      <td>int16</td>\n",
       "    </tr>\n",
       "    <tr>\n",
       "      <th>7</th>\n",
       "      <td>user_id</td>\n",
       "      <td>393656</td>\n",
       "      <td>int32</td>\n",
       "    </tr>\n",
       "    <tr>\n",
       "      <th>8</th>\n",
       "      <td>timestamp</td>\n",
       "      <td>72821015</td>\n",
       "      <td>int64</td>\n",
       "    </tr>\n",
       "  </tbody>\n",
       "</table>\n",
       "</div>"
      ],
      "text/plain": [
       "                      Column_Name  Num_Unique     Type\n",
       "0                 content_type_id           2     int8\n",
       "1  prior_question_had_explanation           2  boolean\n",
       "2              answered_correctly           3     int8\n",
       "3                     user_answer           5     int8\n",
       "4     prior_question_elapsed_time        3258  float32\n",
       "5               task_container_id       10000    int16\n",
       "6                      content_id       13782    int16\n",
       "7                         user_id      393656    int32\n",
       "8                       timestamp    72821015    int64"
      ]
     },
     "metadata": {},
     "output_type": "display_data"
    }
   ],
   "source": [
    "unique_list = []\n",
    "for col in train.columns:\n",
    "    item = (col, train[col].nunique(), train[col].dtype)\n",
    "    unique_list.append(item)\n",
    "unique_counts = pd.DataFrame(unique_list,\n",
    "                             columns=['Column_Name', 'Num_Unique', 'Type']\n",
    "                            ).sort_values(by='Num_Unique',  ignore_index=True)\n",
    "display(unique_counts)"
   ]
  },
  {
   "cell_type": "code",
   "execution_count": null,
   "id": "667de1f3",
   "metadata": {},
   "outputs": [],
   "source": [
    "# Видим, что первые 4 колонки имеют мало типичных значений, а значит, их можно проанализировать детальнее. \n",
    "# По порядку посмотрим, какая доля у каждого из этих значений (Общее число значений мы видим в Info по таблице Int64Index: 101230332 entries, 0 to 101230331)"
   ]
  },
  {
   "cell_type": "code",
   "execution_count": 44,
   "id": "4ce7fd9e",
   "metadata": {},
   "outputs": [],
   "source": [
    "Type_id = round((train[train['content_type_id'] == 0].shape[0]/101230332),2)"
   ]
  },
  {
   "cell_type": "code",
   "execution_count": 43,
   "id": "4ab8d4cc",
   "metadata": {},
   "outputs": [
    {
     "name": "stdout",
     "output_type": "stream",
     "text": [
      "The event was a question being posed to the user = 0.98\n",
      "The event was the user watching a lecture = 0.02\n"
     ]
    }
   ],
   "source": [
    "print (\"The event was a question being posed to the user = \" + str(Type_id))\n",
    "print (\"The event was the user watching a lecture = \" + str(round((1-Type_id),2)))"
   ]
  },
  {
   "cell_type": "code",
   "execution_count": 47,
   "id": "99e02861",
   "metadata": {},
   "outputs": [],
   "source": [
    "prior_question_had_explanation = round((train[train['prior_question_had_explanation'] == True].shape[0]/101230332),2)"
   ]
  },
  {
   "cell_type": "code",
   "execution_count": 49,
   "id": "c1782741",
   "metadata": {},
   "outputs": [
    {
     "name": "stdout",
     "output_type": "stream",
     "text": [
      "User saw an explanation and the correct response(s) = 0.89\n",
      "User DIDN'T see an explanation and the correct response(s) = 0.11\n"
     ]
    }
   ],
   "source": [
    "print (\"User saw an explanation and the correct response(s) = \" + str(prior_question_had_explanation))\n",
    "print (\"User DIDN'T see an explanation and the correct response(s) = \" + str(round((1-prior_question_had_explanation),2)))"
   ]
  },
  {
   "cell_type": "code",
   "execution_count": null,
   "id": "4f758d98",
   "metadata": {},
   "outputs": [],
   "source": [
    "# Посмотрим, какие 3 ответа есть в #answered_correctly:\n",
    "# (int8) if the user responded correctly. Read -1 as null, for lectures."
   ]
  },
  {
   "cell_type": "code",
   "execution_count": 51,
   "id": "6a36f8df",
   "metadata": {},
   "outputs": [
    {
     "data": {
      "text/plain": [
       "0.6572355454194717"
      ]
     },
     "execution_count": 51,
     "metadata": {},
     "output_type": "execute_result"
    }
   ],
   "source": [
    "train[train['answered_correctly'] != -1]['answered_correctly'].value_counts(normalize=True) \n",
    "train[train['answered_correctly'] != -1]['answered_correctly'].value_counts()[1] \n",
    "train[train['answered_correctly'] != -1]['answered_correctly'].value_counts()[0]\n",
    "round(train[train['answered_correctly'] != -1]['answered_correctly'].mean(),2)"
   ]
  },
  {
   "cell_type": "code",
   "execution_count": 66,
   "id": "93bd9ee7",
   "metadata": {},
   "outputs": [
    {
     "data": {
      "text/plain": [
       "13005"
      ]
     },
     "execution_count": 66,
     "metadata": {},
     "output_type": "execute_result"
    }
   ],
   "source": [
    "# Посмотрим какое среднее время, затраченное на задание и сравним среднее с группой, которая ответила правильно\n",
    "round(train['prior_question_elapsed_time'].mean())"
   ]
  },
  {
   "cell_type": "code",
   "execution_count": 65,
   "id": "03f1257c",
   "metadata": {},
   "outputs": [
    {
     "data": {
      "text/plain": [
       "17181"
      ]
     },
     "execution_count": 65,
     "metadata": {},
     "output_type": "execute_result"
    }
   ],
   "source": [
    "round(train[train['answered_correctly'] == 1]['prior_question_elapsed_time'].mean())"
   ]
  },
  {
   "cell_type": "code",
   "execution_count": null,
   "id": "0dafacf5",
   "metadata": {},
   "outputs": [],
   "source": [
    "# Как мы видим, люди, давшие правильные ответы потратили 17181, что больше среднего значения = 13005"
   ]
  },
  {
   "cell_type": "code",
   "execution_count": null,
   "id": "00f320b4",
   "metadata": {},
   "outputs": [],
   "source": [
    "#Аналогично, проверим соотношение правильных результатв с другими временными данными "
   ]
  },
  {
   "cell_type": "code",
   "execution_count": 68,
   "id": "6b6b9147",
   "metadata": {},
   "outputs": [
    {
     "data": {
      "text/html": [
       "<div>\n",
       "<style scoped>\n",
       "    .dataframe tbody tr th:only-of-type {\n",
       "        vertical-align: middle;\n",
       "    }\n",
       "\n",
       "    .dataframe tbody tr th {\n",
       "        vertical-align: top;\n",
       "    }\n",
       "\n",
       "    .dataframe thead th {\n",
       "        text-align: right;\n",
       "    }\n",
       "</style>\n",
       "<table border=\"1\" class=\"dataframe\">\n",
       "  <thead>\n",
       "    <tr style=\"text-align: right;\">\n",
       "      <th></th>\n",
       "      <th>timestamp</th>\n",
       "      <th>prior_questions_time</th>\n",
       "    </tr>\n",
       "    <tr>\n",
       "      <th>answered_correctly</th>\n",
       "      <th></th>\n",
       "      <th></th>\n",
       "    </tr>\n",
       "  </thead>\n",
       "  <tbody>\n",
       "    <tr>\n",
       "      <th>0</th>\n",
       "      <td>7.235711e+09</td>\n",
       "      <td>25641.992188</td>\n",
       "    </tr>\n",
       "    <tr>\n",
       "      <th>1</th>\n",
       "      <td>7.945270e+09</td>\n",
       "      <td>25309.976562</td>\n",
       "    </tr>\n",
       "  </tbody>\n",
       "</table>\n",
       "</div>"
      ],
      "text/plain": [
       "                       timestamp  prior_questions_time\n",
       "answered_correctly                                    \n",
       "0                   7.235711e+09          25641.992188\n",
       "1                   7.945270e+09          25309.976562"
      ]
     },
     "execution_count": 68,
     "metadata": {},
     "output_type": "execute_result"
    }
   ],
   "source": [
    "pd.DataFrame({'timestamp': train[train['answered_correctly'] != -1]['timestamp'].groupby(train['answered_correctly']).mean(),\n",
    "              'prior_questions_time': train[train['answered_correctly'] != -1]['prior_question_elapsed_time'].groupby(train['answered_correctly']).mean(),\n",
    "              }\n",
    "            )"
   ]
  },
  {
   "cell_type": "code",
   "execution_count": 69,
   "id": "80965df9",
   "metadata": {},
   "outputs": [],
   "source": [
    "# Теперь мы видим основные вводные и то, как они распреледелены относительно результата студента. \n",
    "# Далее будет иметь смысл работать с агрегированными данными. Вместе с этим - я сокращу объем в новой выборке для удобства работы с кодом."
   ]
  },
  {
   "cell_type": "code",
   "execution_count": 78,
   "id": "4ceccb56",
   "metadata": {},
   "outputs": [],
   "source": [
    "sudents_list = list(train['user_id'].unique())\n",
    "sudents_list = sudents_list[:300]"
   ]
  },
  {
   "cell_type": "code",
   "execution_count": 79,
   "id": "eacd8f98",
   "metadata": {},
   "outputs": [],
   "source": [
    "#Посчитаем комбинирвоанные данные для каждого студента, чтобы понимать среднюю картину по каждлму из показателей\n",
    "time = [] # время на платформе\n",
    "for student in sudents_list:\n",
    "    t = train[train['user_id'] == student]['timestamp'].max()\n",
    "    time.append(t)"
   ]
  },
  {
   "cell_type": "code",
   "execution_count": 80,
   "id": "eb90be8e",
   "metadata": {},
   "outputs": [],
   "source": [
    "ques_quant = [] #Количество отвеченных вопросов\n",
    "for student in sudents_list:\n",
    "    q = train[(train['user_id'] == student) & (train['content_type_id'] == 0)]['content_type_id'].count()\n",
    "    ques_quant.append(q)"
   ]
  },
  {
   "cell_type": "code",
   "execution_count": null,
   "id": "376f7d26",
   "metadata": {},
   "outputs": [],
   "source": [
    "lec_watched = [] #Кол-во просмотренных лекций\n",
    "for student in sudents_list:\n",
    "    l = train[train['user_id'] == student]['content_type_id'].sum()\n",
    "    lec_watched.append(l)\n",
    "\n",
    "expl_watched = [] #Кол-во yвиденных объяснений на предыдущие вопросы\n",
    "for student in sudents_list:\n",
    "    e = train[train['user_id'] == student]['prior_question_had_explanation'].sum()\n",
    "    expl_watched.append(e)\n",
    "\n",
    "ques_time = [] # Время, в среднем потраченное студентом на каждый вопрос\n",
    "for student in sudents_list:\n",
    "    qt = train[(train['user_id'] == student)]['prior_question_elapsed_time'].mean()\n",
    "    ques_time.append(qt)"
   ]
  },
  {
   "cell_type": "code",
   "execution_count": null,
   "id": "90313e46",
   "metadata": {},
   "outputs": [],
   "source": [
    "# объедним новые переменные в таблицу и представим описание по каждому из признаков"
   ]
  },
  {
   "cell_type": "code",
   "execution_count": null,
   "id": "d99e4864",
   "metadata": {},
   "outputs": [],
   "source": [
    "students = pd.DataFrame({'user_id': sudents_list,\n",
    "                        'time': time,\n",
    "                        'ques_quant': ques_quant,\n",
    "                        'av_grade': av_grade,\n",
    "                        'lec_watched': lec_watched,\n",
    "                        'expl_watched': expl_watched,\n",
    "                         'ques_time': ques_time\n",
    "                       }\n",
    "                      )\n",
    "students = students.astype({'user_id': 'int32',\n",
    "                            'time': 'int64',\n",
    "                            'ques_quant': 'int16', \n",
    "                            'av_grade': 'float32',\n",
    "                            'lec_watched': 'int16',\n",
    "                            'expl_watched': 'int16',\n",
    "                            'ques_time': 'float32'\n",
    "                           })\n",
    "students.head()\n",
    "students.describe()"
   ]
  }
 ],
 "metadata": {
  "kernelspec": {
   "display_name": "Python 3 (ipykernel)",
   "language": "python",
   "name": "python3"
  },
  "language_info": {
   "codemirror_mode": {
    "name": "ipython",
    "version": 3
   },
   "file_extension": ".py",
   "mimetype": "text/x-python",
   "name": "python",
   "nbconvert_exporter": "python",
   "pygments_lexer": "ipython3",
   "version": "3.9.12"
  }
 },
 "nbformat": 4,
 "nbformat_minor": 5
}
