{
 "cells": [
  {
   "cell_type": "code",
   "execution_count": 3,
   "id": "d485ea90",
   "metadata": {},
   "outputs": [],
   "source": [
    "import pandas as pd"
   ]
  },
  {
   "cell_type": "code",
   "execution_count": null,
   "id": "faf21f00",
   "metadata": {},
   "outputs": [],
   "source": [
    "# Открываем файл и облегчаем типы данных для уменьшения объема используемой памяти:"
   ]
  },
  {
   "cell_type": "code",
   "execution_count": 6,
   "id": "aa869610",
   "metadata": {},
   "outputs": [],
   "source": [
    "train = pd.read_csv('C:\\\\Users\\\\shere\\\\OneDrive\\\\Рабочий стол\\\\MFTI\\\\Python\\\\HW 3 - Pandas\\\\train-001.csv', sep=',', index_col=0,\n",
    "                       dtype = {'row_id': 'int64', 'timestamp': 'int64', 'user_id': 'int32', 'content_id': 'int16', \n",
    "                                'content_type_id': 'int8', 'task_container_id': 'int16', 'user_answer': 'int8', \n",
    "                                'answered_correctly': 'int8', 'prior_question_elapsed_time': 'float32', \n",
    "                                'prior_question_had_explanation': 'boolean'\n",
    "                               }\n",
    "                      )"
   ]
  },
  {
   "cell_type": "code",
   "execution_count": 7,
   "id": "25d324d8",
   "metadata": {},
   "outputs": [
    {
     "name": "stdout",
     "output_type": "stream",
     "text": [
      "<class 'pandas.core.frame.DataFrame'>\n",
      "Int64Index: 101230332 entries, 0 to 101230331\n",
      "Data columns (total 9 columns):\n",
      " #   Column                          Dtype  \n",
      "---  ------                          -----  \n",
      " 0   timestamp                       int64  \n",
      " 1   user_id                         int32  \n",
      " 2   content_id                      int16  \n",
      " 3   content_type_id                 int8   \n",
      " 4   task_container_id               int16  \n",
      " 5   user_answer                     int8   \n",
      " 6   answered_correctly              int8   \n",
      " 7   prior_question_elapsed_time     float32\n",
      " 8   prior_question_had_explanation  boolean\n",
      "dtypes: boolean(1), float32(1), int16(2), int32(1), int64(1), int8(3)\n",
      "memory usage: 3.1 GB\n"
     ]
    }
   ],
   "source": [
    "train.info()"
   ]
  },
  {
   "cell_type": "code",
   "execution_count": 8,
   "id": "9a5124fe",
   "metadata": {},
   "outputs": [],
   "source": [
    "# Смотрим, какие есть данные в колонках"
   ]
  },
  {
   "cell_type": "code",
   "execution_count": 9,
   "id": "84a53815",
   "metadata": {},
   "outputs": [
    {
     "data": {
      "text/html": [
       "<div>\n",
       "<style scoped>\n",
       "    .dataframe tbody tr th:only-of-type {\n",
       "        vertical-align: middle;\n",
       "    }\n",
       "\n",
       "    .dataframe tbody tr th {\n",
       "        vertical-align: top;\n",
       "    }\n",
       "\n",
       "    .dataframe thead th {\n",
       "        text-align: right;\n",
       "    }\n",
       "</style>\n",
       "<table border=\"1\" class=\"dataframe\">\n",
       "  <thead>\n",
       "    <tr style=\"text-align: right;\">\n",
       "      <th></th>\n",
       "      <th>timestamp</th>\n",
       "      <th>user_id</th>\n",
       "      <th>content_id</th>\n",
       "      <th>content_type_id</th>\n",
       "      <th>task_container_id</th>\n",
       "      <th>user_answer</th>\n",
       "      <th>answered_correctly</th>\n",
       "      <th>prior_question_elapsed_time</th>\n",
       "      <th>prior_question_had_explanation</th>\n",
       "    </tr>\n",
       "    <tr>\n",
       "      <th>row_id</th>\n",
       "      <th></th>\n",
       "      <th></th>\n",
       "      <th></th>\n",
       "      <th></th>\n",
       "      <th></th>\n",
       "      <th></th>\n",
       "      <th></th>\n",
       "      <th></th>\n",
       "      <th></th>\n",
       "    </tr>\n",
       "  </thead>\n",
       "  <tbody>\n",
       "    <tr>\n",
       "      <th>0</th>\n",
       "      <td>0</td>\n",
       "      <td>115</td>\n",
       "      <td>5692</td>\n",
       "      <td>0</td>\n",
       "      <td>1</td>\n",
       "      <td>3</td>\n",
       "      <td>1</td>\n",
       "      <td>NaN</td>\n",
       "      <td>&lt;NA&gt;</td>\n",
       "    </tr>\n",
       "    <tr>\n",
       "      <th>1</th>\n",
       "      <td>56943</td>\n",
       "      <td>115</td>\n",
       "      <td>5716</td>\n",
       "      <td>0</td>\n",
       "      <td>2</td>\n",
       "      <td>2</td>\n",
       "      <td>1</td>\n",
       "      <td>37000.0</td>\n",
       "      <td>False</td>\n",
       "    </tr>\n",
       "    <tr>\n",
       "      <th>2</th>\n",
       "      <td>118363</td>\n",
       "      <td>115</td>\n",
       "      <td>128</td>\n",
       "      <td>0</td>\n",
       "      <td>0</td>\n",
       "      <td>0</td>\n",
       "      <td>1</td>\n",
       "      <td>55000.0</td>\n",
       "      <td>False</td>\n",
       "    </tr>\n",
       "    <tr>\n",
       "      <th>3</th>\n",
       "      <td>131167</td>\n",
       "      <td>115</td>\n",
       "      <td>7860</td>\n",
       "      <td>0</td>\n",
       "      <td>3</td>\n",
       "      <td>0</td>\n",
       "      <td>1</td>\n",
       "      <td>19000.0</td>\n",
       "      <td>False</td>\n",
       "    </tr>\n",
       "    <tr>\n",
       "      <th>4</th>\n",
       "      <td>137965</td>\n",
       "      <td>115</td>\n",
       "      <td>7922</td>\n",
       "      <td>0</td>\n",
       "      <td>4</td>\n",
       "      <td>1</td>\n",
       "      <td>1</td>\n",
       "      <td>11000.0</td>\n",
       "      <td>False</td>\n",
       "    </tr>\n",
       "  </tbody>\n",
       "</table>\n",
       "</div>"
      ],
      "text/plain": [
       "        timestamp  user_id  content_id  content_type_id  task_container_id  \\\n",
       "row_id                                                                       \n",
       "0               0      115        5692                0                  1   \n",
       "1           56943      115        5716                0                  2   \n",
       "2          118363      115         128                0                  0   \n",
       "3          131167      115        7860                0                  3   \n",
       "4          137965      115        7922                0                  4   \n",
       "\n",
       "        user_answer  answered_correctly  prior_question_elapsed_time  \\\n",
       "row_id                                                                 \n",
       "0                 3                   1                          NaN   \n",
       "1                 2                   1                      37000.0   \n",
       "2                 0                   1                      55000.0   \n",
       "3                 0                   1                      19000.0   \n",
       "4                 1                   1                      11000.0   \n",
       "\n",
       "        prior_question_had_explanation  \n",
       "row_id                                  \n",
       "0                                 <NA>  \n",
       "1                                False  \n",
       "2                                False  \n",
       "3                                False  \n",
       "4                                False  "
      ]
     },
     "execution_count": 9,
     "metadata": {},
     "output_type": "execute_result"
    }
   ],
   "source": [
    "train.head()"
   ]
  },
  {
   "cell_type": "code",
   "execution_count": 11,
   "id": "6bcffdbd",
   "metadata": {},
   "outputs": [],
   "source": [
    "#TRAIN.CSV\n",
    "#row_id: (int64) ID code for the row.\n",
    "#timestamp: (int64) the time in milliseconds between this user interaction and the first event completion from that user.\n",
    "#user_id: (int32) ID code for the user.\n",
    "#content_id: (int16) ID code for the user interaction\n",
    "#content_type_id: (int8) 0 if the event was a question being posed to the user, 1 if the event was the user watching a lecture.\n",
    "#task_container_id: (int16) Id code for the batch of questions or lectures. For example, a user might see three questions in a row before seeing the explanations for any of them. Those three would all share a task_container_id.\n",
    "#user_answer: (int8) the user's answer to the question, if any. Read -1 as null, for lectures.\n",
    "#answered_correctly: (int8) if the user responded correctly. Read -1 as null, for lectures.\n",
    "#prior_question_elapsed_time: (float32) The average time in milliseconds it took a user to answer each question in the previous question bundle, ignoring any lectures in between. Is null for a user's first question bundle or lecture. Note that the time is the average time a user took to solve each question in the previous bundle.\n",
    "#prior_question_had_explanation: (bool) Whether or not the user saw an explanation and the correct response(s) after answering the previous question bundle, ignoring any lectures in between. The value is shared across a single question bundle, and is null for a user's first question bundle or lecture. Typically the first several questions a user sees were part of an onboarding diagnostic test where they did not get any feedback."
   ]
  },
  {
   "cell_type": "code",
   "execution_count": null,
   "id": "03a2b90a",
   "metadata": {},
   "outputs": [],
   "source": [
    "# Посмотрим разброс данных в каждой категории и средние значения "
   ]
  },
  {
   "cell_type": "code",
   "execution_count": 53,
   "id": "6c7a6347",
   "metadata": {},
   "outputs": [
    {
     "data": {
      "text/plain": [
       "252.17778974536142"
      ]
     },
     "execution_count": 53,
     "metadata": {},
     "output_type": "execute_result"
    }
   ],
   "source": [
    "train[train['content_type_id'] == 0].shape[0] / train['user_id'].nunique()"
   ]
  },
  {
   "cell_type": "code",
   "execution_count": 12,
   "id": "1c5300c8",
   "metadata": {
    "scrolled": true
   },
   "outputs": [
    {
     "data": {
      "text/html": [
       "<div>\n",
       "<style scoped>\n",
       "    .dataframe tbody tr th:only-of-type {\n",
       "        vertical-align: middle;\n",
       "    }\n",
       "\n",
       "    .dataframe tbody tr th {\n",
       "        vertical-align: top;\n",
       "    }\n",
       "\n",
       "    .dataframe thead th {\n",
       "        text-align: right;\n",
       "    }\n",
       "</style>\n",
       "<table border=\"1\" class=\"dataframe\">\n",
       "  <thead>\n",
       "    <tr style=\"text-align: right;\">\n",
       "      <th></th>\n",
       "      <th>Column_Name</th>\n",
       "      <th>Num_Unique</th>\n",
       "      <th>Type</th>\n",
       "    </tr>\n",
       "  </thead>\n",
       "  <tbody>\n",
       "    <tr>\n",
       "      <th>0</th>\n",
       "      <td>content_type_id</td>\n",
       "      <td>2</td>\n",
       "      <td>int8</td>\n",
       "    </tr>\n",
       "    <tr>\n",
       "      <th>1</th>\n",
       "      <td>prior_question_had_explanation</td>\n",
       "      <td>2</td>\n",
       "      <td>boolean</td>\n",
       "    </tr>\n",
       "    <tr>\n",
       "      <th>2</th>\n",
       "      <td>answered_correctly</td>\n",
       "      <td>3</td>\n",
       "      <td>int8</td>\n",
       "    </tr>\n",
       "    <tr>\n",
       "      <th>3</th>\n",
       "      <td>user_answer</td>\n",
       "      <td>5</td>\n",
       "      <td>int8</td>\n",
       "    </tr>\n",
       "    <tr>\n",
       "      <th>4</th>\n",
       "      <td>prior_question_elapsed_time</td>\n",
       "      <td>3258</td>\n",
       "      <td>float32</td>\n",
       "    </tr>\n",
       "    <tr>\n",
       "      <th>5</th>\n",
       "      <td>task_container_id</td>\n",
       "      <td>10000</td>\n",
       "      <td>int16</td>\n",
       "    </tr>\n",
       "    <tr>\n",
       "      <th>6</th>\n",
       "      <td>content_id</td>\n",
       "      <td>13782</td>\n",
       "      <td>int16</td>\n",
       "    </tr>\n",
       "    <tr>\n",
       "      <th>7</th>\n",
       "      <td>user_id</td>\n",
       "      <td>393656</td>\n",
       "      <td>int32</td>\n",
       "    </tr>\n",
       "    <tr>\n",
       "      <th>8</th>\n",
       "      <td>timestamp</td>\n",
       "      <td>72821015</td>\n",
       "      <td>int64</td>\n",
       "    </tr>\n",
       "  </tbody>\n",
       "</table>\n",
       "</div>"
      ],
      "text/plain": [
       "                      Column_Name  Num_Unique     Type\n",
       "0                 content_type_id           2     int8\n",
       "1  prior_question_had_explanation           2  boolean\n",
       "2              answered_correctly           3     int8\n",
       "3                     user_answer           5     int8\n",
       "4     prior_question_elapsed_time        3258  float32\n",
       "5               task_container_id       10000    int16\n",
       "6                      content_id       13782    int16\n",
       "7                         user_id      393656    int32\n",
       "8                       timestamp    72821015    int64"
      ]
     },
     "metadata": {},
     "output_type": "display_data"
    }
   ],
   "source": [
    "unique_list = []\n",
    "for col in train.columns:\n",
    "    item = (col, train[col].nunique(), train[col].dtype)\n",
    "    unique_list.append(item)\n",
    "unique_counts = pd.DataFrame(unique_list,\n",
    "                             columns=['Column_Name', 'Num_Unique', 'Type']\n",
    "                            ).sort_values(by='Num_Unique',  ignore_index=True)\n",
    "display(unique_counts)"
   ]
  },
  {
   "cell_type": "code",
   "execution_count": null,
   "id": "34172fa1",
   "metadata": {},
   "outputs": [],
   "source": [
    "# Видим, что первые 4 колонки имеют мало типичных значений, а значит, их можно проанализировать детальнее. \n",
    "# По порядку посмотрим, какая доля у каждого из этих значений (Общее число значений мы видим в Info по таблице Int64Index: 101230332 entries, 0 to 101230331)"
   ]
  },
  {
   "cell_type": "code",
   "execution_count": 44,
   "id": "3dc961af",
   "metadata": {},
   "outputs": [],
   "source": [
    "Type_id = round((train[train['content_type_id'] == 0].shape[0]/101230332),2)"
   ]
  },
  {
   "cell_type": "code",
   "execution_count": 43,
   "id": "9a415546",
   "metadata": {},
   "outputs": [
    {
     "name": "stdout",
     "output_type": "stream",
     "text": [
      "The event was a question being posed to the user = 0.98\n",
      "The event was the user watching a lecture = 0.02\n"
     ]
    }
   ],
   "source": [
    "print (\"The event was a question being posed to the user = \" + str(Type_id))\n",
    "print (\"The event was the user watching a lecture = \" + str(round((1-Type_id),2)))"
   ]
  },
  {
   "cell_type": "code",
   "execution_count": 47,
   "id": "532935ba",
   "metadata": {},
   "outputs": [],
   "source": [
    "prior_question_had_explanation = round((train[train['prior_question_had_explanation'] == True].shape[0]/101230332),2)"
   ]
  },
  {
   "cell_type": "code",
   "execution_count": 49,
   "id": "09fafd48",
   "metadata": {},
   "outputs": [
    {
     "name": "stdout",
     "output_type": "stream",
     "text": [
      "User saw an explanation and the correct response(s) = 0.89\n",
      "User DIDN'T see an explanation and the correct response(s) = 0.11\n"
     ]
    }
   ],
   "source": [
    "print (\"User saw an explanation and the correct response(s) = \" + str(prior_question_had_explanation))\n",
    "print (\"User DIDN'T see an explanation and the correct response(s) = \" + str(round((1-prior_question_had_explanation),2)))"
   ]
  },
  {
   "cell_type": "code",
   "execution_count": null,
   "id": "80a29e7f",
   "metadata": {},
   "outputs": [],
   "source": [
    "# Посмотрим, какие 3 ответа есть в #answered_correctly:\n",
    "# (int8) if the user responded correctly. Read -1 as null, for lectures."
   ]
  },
  {
   "cell_type": "code",
   "execution_count": 51,
   "id": "cedaed69",
   "metadata": {},
   "outputs": [
    {
     "data": {
      "text/plain": [
       "0.6572355454194717"
      ]
     },
     "execution_count": 51,
     "metadata": {},
     "output_type": "execute_result"
    }
   ],
   "source": [
    "train[train['answered_correctly'] != -1]['answered_correctly'].value_counts(normalize=True) \n",
    "train[train['answered_correctly'] != -1]['answered_correctly'].value_counts()[1] \n",
    "train[train['answered_correctly'] != -1]['answered_correctly'].value_counts()[0]\n",
    "round(train[train['answered_correctly'] != -1]['answered_correctly'].mean(),2)"
   ]
  },
  {
   "cell_type": "code",
   "execution_count": 66,
   "id": "b14be3a6",
   "metadata": {},
   "outputs": [
    {
     "data": {
      "text/plain": [
       "13005"
      ]
     },
     "execution_count": 66,
     "metadata": {},
     "output_type": "execute_result"
    }
   ],
   "source": [
    "# Посмотрим какое среднее время, затраченное на задание и сравним среднее с группой, которая ответила правильно\n",
    "round(train['prior_question_elapsed_time'].mean())"
   ]
  },
  {
   "cell_type": "code",
   "execution_count": 65,
   "id": "9e3b0a24",
   "metadata": {},
   "outputs": [
    {
     "data": {
      "text/plain": [
       "17181"
      ]
     },
     "execution_count": 65,
     "metadata": {},
     "output_type": "execute_result"
    }
   ],
   "source": [
    "round(train[train['answered_correctly'] == 1]['prior_question_elapsed_time'].mean())"
   ]
  },
  {
   "cell_type": "code",
   "execution_count": null,
   "id": "6ccda615",
   "metadata": {},
   "outputs": [],
   "source": [
    "# Как мы видим, люди, давшие правильные ответы потратили 17181, что больше среднего значения = 13005"
   ]
  },
  {
   "cell_type": "code",
   "execution_count": null,
   "id": "fb2afd2b",
   "metadata": {},
   "outputs": [],
   "source": [
    "#Аналогично, проверим соотношение правильных результатв с другими временными данными "
   ]
  },
  {
   "cell_type": "code",
   "execution_count": 68,
   "id": "2e5db7bb",
   "metadata": {},
   "outputs": [
    {
     "data": {
      "text/html": [
       "<div>\n",
       "<style scoped>\n",
       "    .dataframe tbody tr th:only-of-type {\n",
       "        vertical-align: middle;\n",
       "    }\n",
       "\n",
       "    .dataframe tbody tr th {\n",
       "        vertical-align: top;\n",
       "    }\n",
       "\n",
       "    .dataframe thead th {\n",
       "        text-align: right;\n",
       "    }\n",
       "</style>\n",
       "<table border=\"1\" class=\"dataframe\">\n",
       "  <thead>\n",
       "    <tr style=\"text-align: right;\">\n",
       "      <th></th>\n",
       "      <th>timestamp</th>\n",
       "      <th>prior_questions_time</th>\n",
       "    </tr>\n",
       "    <tr>\n",
       "      <th>answered_correctly</th>\n",
       "      <th></th>\n",
       "      <th></th>\n",
       "    </tr>\n",
       "  </thead>\n",
       "  <tbody>\n",
       "    <tr>\n",
       "      <th>0</th>\n",
       "      <td>7.235711e+09</td>\n",
       "      <td>25641.992188</td>\n",
       "    </tr>\n",
       "    <tr>\n",
       "      <th>1</th>\n",
       "      <td>7.945270e+09</td>\n",
       "      <td>25309.976562</td>\n",
       "    </tr>\n",
       "  </tbody>\n",
       "</table>\n",
       "</div>"
      ],
      "text/plain": [
       "                       timestamp  prior_questions_time\n",
       "answered_correctly                                    \n",
       "0                   7.235711e+09          25641.992188\n",
       "1                   7.945270e+09          25309.976562"
      ]
     },
     "execution_count": 68,
     "metadata": {},
     "output_type": "execute_result"
    }
   ],
   "source": [
    "pd.DataFrame({'timestamp': train[train['answered_correctly'] != -1]['timestamp'].groupby(train['answered_correctly']).mean(),\n",
    "              'prior_questions_time': train[train['answered_correctly'] != -1]['prior_question_elapsed_time'].groupby(train['answered_correctly']).mean(),\n",
    "              }\n",
    "            )"
   ]
  },
  {
   "cell_type": "code",
   "execution_count": 69,
   "id": "57a99880",
   "metadata": {},
   "outputs": [],
   "source": [
    "# Теперь мы видим основные вводные и то, как они распреледелены относительно результата студента. \n",
    "# Далее будет иметь смысл работать с агрегированными данными. Вместе с этим - я сокращу объем в новой выборке для удобства работы с кодом."
   ]
  },
  {
   "cell_type": "code",
   "execution_count": 82,
   "id": "efa10065",
   "metadata": {},
   "outputs": [],
   "source": [
    "sudents_list = list(train['user_id'].unique())\n",
    "sudents_list = sudents_list[:300]"
   ]
  },
  {
   "cell_type": "code",
   "execution_count": 79,
   "id": "9ffd3a86",
   "metadata": {},
   "outputs": [],
   "source": [
    "#Посчитаем комбинирвоанные данные для каждого студента, чтобы понимать среднюю картину по каждлму из показателей\n",
    "time = [] # время на платформе\n",
    "for student in sudents_list:\n",
    "    t = train[train['user_id'] == student]['timestamp'].max()\n",
    "    time.append(t)"
   ]
  },
  {
   "cell_type": "code",
   "execution_count": 83,
   "id": "ff1aea77",
   "metadata": {},
   "outputs": [],
   "source": [
    "ques_quant = [] #Количество отвеченных вопросов\n",
    "for student in sudents_list:\n",
    "    q = train[(train['user_id'] == student) & (train['content_type_id'] == 0)]['content_type_id'].count()\n",
    "    ques_quant.append(q)"
   ]
  },
  {
   "cell_type": "code",
   "execution_count": 86,
   "id": "a4b4f563",
   "metadata": {},
   "outputs": [],
   "source": [
    "av_grade = []  #Cредний балл студента\n",
    "for student in sudents_list:\n",
    "    g = train[(train['user_id'] == student) & (train['answered_correctly'] != -1)]['answered_correctly'].mean()\n",
    "    av_grade.append(g)"
   ]
  },
  {
   "cell_type": "code",
   "execution_count": 84,
   "id": "2ccb8a1f",
   "metadata": {},
   "outputs": [],
   "source": [
    "lec_watched = [] #Кол-во просмотренных лекций\n",
    "for student in sudents_list:\n",
    "    l = train[train['user_id'] == student]['content_type_id'].sum()\n",
    "    lec_watched.append(l)\n",
    "\n",
    "expl_watched = [] #Кол-во yвиденных объяснений на предыдущие вопросы\n",
    "for student in sudents_list:\n",
    "    e = train[train['user_id'] == student]['prior_question_had_explanation'].sum()\n",
    "    expl_watched.append(e)\n",
    "\n",
    "ques_time = [] # Время, в среднем потраченное студентом на каждый вопрос\n",
    "for student in sudents_list:\n",
    "    qt = train[(train['user_id'] == student)]['prior_question_elapsed_time'].mean()\n",
    "    ques_time.append(qt)"
   ]
  },
  {
   "cell_type": "code",
   "execution_count": null,
   "id": "f47648df",
   "metadata": {},
   "outputs": [],
   "source": [
    "# объедним новые переменные в таблицу и представим описание по каждому из признаков"
   ]
  },
  {
   "cell_type": "code",
   "execution_count": 88,
   "id": "2050a4aa",
   "metadata": {},
   "outputs": [
    {
     "data": {
      "text/html": [
       "<div>\n",
       "<style scoped>\n",
       "    .dataframe tbody tr th:only-of-type {\n",
       "        vertical-align: middle;\n",
       "    }\n",
       "\n",
       "    .dataframe tbody tr th {\n",
       "        vertical-align: top;\n",
       "    }\n",
       "\n",
       "    .dataframe thead th {\n",
       "        text-align: right;\n",
       "    }\n",
       "</style>\n",
       "<table border=\"1\" class=\"dataframe\">\n",
       "  <thead>\n",
       "    <tr style=\"text-align: right;\">\n",
       "      <th></th>\n",
       "      <th>user_id</th>\n",
       "      <th>time</th>\n",
       "      <th>ques_quant</th>\n",
       "      <th>av_grade</th>\n",
       "      <th>lec_watched</th>\n",
       "      <th>expl_watched</th>\n",
       "      <th>ques_time</th>\n",
       "    </tr>\n",
       "  </thead>\n",
       "  <tbody>\n",
       "    <tr>\n",
       "      <th>count</th>\n",
       "      <td>3.000000e+02</td>\n",
       "      <td>3.000000e+02</td>\n",
       "      <td>300.000000</td>\n",
       "      <td>300.000000</td>\n",
       "      <td>300.000000</td>\n",
       "      <td>300.000000</td>\n",
       "      <td>300.000000</td>\n",
       "    </tr>\n",
       "    <tr>\n",
       "      <th>mean</th>\n",
       "      <td>8.864180e+05</td>\n",
       "      <td>5.051797e+09</td>\n",
       "      <td>271.770000</td>\n",
       "      <td>0.540567</td>\n",
       "      <td>4.646667</td>\n",
       "      <td>249.456667</td>\n",
       "      <td>23844.164062</td>\n",
       "    </tr>\n",
       "    <tr>\n",
       "      <th>std</th>\n",
       "      <td>5.359876e+05</td>\n",
       "      <td>9.986648e+09</td>\n",
       "      <td>794.462282</td>\n",
       "      <td>0.170348</td>\n",
       "      <td>15.970347</td>\n",
       "      <td>790.950464</td>\n",
       "      <td>7774.491699</td>\n",
       "    </tr>\n",
       "    <tr>\n",
       "      <th>min</th>\n",
       "      <td>1.150000e+02</td>\n",
       "      <td>5.737300e+04</td>\n",
       "      <td>7.000000</td>\n",
       "      <td>0.000000</td>\n",
       "      <td>0.000000</td>\n",
       "      <td>0.000000</td>\n",
       "      <td>1344.862061</td>\n",
       "    </tr>\n",
       "    <tr>\n",
       "      <th>25%</th>\n",
       "      <td>3.853472e+05</td>\n",
       "      <td>1.394032e+06</td>\n",
       "      <td>30.000000</td>\n",
       "      <td>0.426339</td>\n",
       "      <td>0.000000</td>\n",
       "      <td>9.000000</td>\n",
       "      <td>19280.315918</td>\n",
       "    </tr>\n",
       "    <tr>\n",
       "      <th>50%</th>\n",
       "      <td>9.056425e+05</td>\n",
       "      <td>4.896570e+08</td>\n",
       "      <td>47.000000</td>\n",
       "      <td>0.578046</td>\n",
       "      <td>0.000000</td>\n",
       "      <td>23.000000</td>\n",
       "      <td>22929.346680</td>\n",
       "    </tr>\n",
       "    <tr>\n",
       "      <th>75%</th>\n",
       "      <td>1.349270e+06</td>\n",
       "      <td>4.637351e+09</td>\n",
       "      <td>150.750000</td>\n",
       "      <td>0.663947</td>\n",
       "      <td>2.000000</td>\n",
       "      <td>127.000000</td>\n",
       "      <td>26735.916992</td>\n",
       "    </tr>\n",
       "    <tr>\n",
       "      <th>max</th>\n",
       "      <td>1.822782e+06</td>\n",
       "      <td>5.949531e+10</td>\n",
       "      <td>7476.000000</td>\n",
       "      <td>0.923077</td>\n",
       "      <td>181.000000</td>\n",
       "      <td>7465.000000</td>\n",
       "      <td>60351.351562</td>\n",
       "    </tr>\n",
       "  </tbody>\n",
       "</table>\n",
       "</div>"
      ],
      "text/plain": [
       "            user_id          time   ques_quant    av_grade  lec_watched  \\\n",
       "count  3.000000e+02  3.000000e+02   300.000000  300.000000   300.000000   \n",
       "mean   8.864180e+05  5.051797e+09   271.770000    0.540567     4.646667   \n",
       "std    5.359876e+05  9.986648e+09   794.462282    0.170348    15.970347   \n",
       "min    1.150000e+02  5.737300e+04     7.000000    0.000000     0.000000   \n",
       "25%    3.853472e+05  1.394032e+06    30.000000    0.426339     0.000000   \n",
       "50%    9.056425e+05  4.896570e+08    47.000000    0.578046     0.000000   \n",
       "75%    1.349270e+06  4.637351e+09   150.750000    0.663947     2.000000   \n",
       "max    1.822782e+06  5.949531e+10  7476.000000    0.923077   181.000000   \n",
       "\n",
       "       expl_watched     ques_time  \n",
       "count    300.000000    300.000000  \n",
       "mean     249.456667  23844.164062  \n",
       "std      790.950464   7774.491699  \n",
       "min        0.000000   1344.862061  \n",
       "25%        9.000000  19280.315918  \n",
       "50%       23.000000  22929.346680  \n",
       "75%      127.000000  26735.916992  \n",
       "max     7465.000000  60351.351562  "
      ]
     },
     "execution_count": 88,
     "metadata": {},
     "output_type": "execute_result"
    }
   ],
   "source": [
    "students = pd.DataFrame({'user_id': sudents_list,\n",
    "                        'time': time,\n",
    "                        'ques_quant': ques_quant,\n",
    "                        'av_grade': av_grade,\n",
    "                        'lec_watched': lec_watched,\n",
    "                        'expl_watched': expl_watched,\n",
    "                         'ques_time': ques_time\n",
    "                       }\n",
    "                      )\n",
    "students = students.astype({'user_id': 'int32',\n",
    "                            'time': 'int64',\n",
    "                            'ques_quant': 'int16', \n",
    "                            'av_grade': 'float32',\n",
    "                            'lec_watched': 'int16',\n",
    "                            'expl_watched': 'int16',\n",
    "                            'ques_time': 'float32'\n",
    "                           })\n",
    "students.describe()"
   ]
  },
  {
   "cell_type": "code",
   "execution_count": 89,
   "id": "2f9d7008",
   "metadata": {},
   "outputs": [
    {
     "data": {
      "text/html": [
       "<div>\n",
       "<style scoped>\n",
       "    .dataframe tbody tr th:only-of-type {\n",
       "        vertical-align: middle;\n",
       "    }\n",
       "\n",
       "    .dataframe tbody tr th {\n",
       "        vertical-align: top;\n",
       "    }\n",
       "\n",
       "    .dataframe thead th {\n",
       "        text-align: right;\n",
       "    }\n",
       "</style>\n",
       "<table border=\"1\" class=\"dataframe\">\n",
       "  <thead>\n",
       "    <tr style=\"text-align: right;\">\n",
       "      <th></th>\n",
       "      <th>user_id</th>\n",
       "      <th>time</th>\n",
       "      <th>ques_quant</th>\n",
       "      <th>av_grade</th>\n",
       "      <th>lec_watched</th>\n",
       "      <th>expl_watched</th>\n",
       "      <th>ques_time</th>\n",
       "    </tr>\n",
       "  </thead>\n",
       "  <tbody>\n",
       "    <tr>\n",
       "      <th>0</th>\n",
       "      <td>115</td>\n",
       "      <td>668090043</td>\n",
       "      <td>46</td>\n",
       "      <td>0.695652</td>\n",
       "      <td>0</td>\n",
       "      <td>6</td>\n",
       "      <td>19933.310547</td>\n",
       "    </tr>\n",
       "    <tr>\n",
       "      <th>1</th>\n",
       "      <td>124</td>\n",
       "      <td>571323</td>\n",
       "      <td>30</td>\n",
       "      <td>0.233333</td>\n",
       "      <td>0</td>\n",
       "      <td>0</td>\n",
       "      <td>18793.000000</td>\n",
       "    </tr>\n",
       "    <tr>\n",
       "      <th>2</th>\n",
       "      <td>2746</td>\n",
       "      <td>835457</td>\n",
       "      <td>19</td>\n",
       "      <td>0.578947</td>\n",
       "      <td>1</td>\n",
       "      <td>11</td>\n",
       "      <td>18055.554688</td>\n",
       "    </tr>\n",
       "    <tr>\n",
       "      <th>3</th>\n",
       "      <td>5382</td>\n",
       "      <td>2101551456</td>\n",
       "      <td>125</td>\n",
       "      <td>0.672000</td>\n",
       "      <td>3</td>\n",
       "      <td>113</td>\n",
       "      <td>36048.386719</td>\n",
       "    </tr>\n",
       "    <tr>\n",
       "      <th>4</th>\n",
       "      <td>8623</td>\n",
       "      <td>862338736</td>\n",
       "      <td>109</td>\n",
       "      <td>0.642202</td>\n",
       "      <td>3</td>\n",
       "      <td>96</td>\n",
       "      <td>26107.408203</td>\n",
       "    </tr>\n",
       "  </tbody>\n",
       "</table>\n",
       "</div>"
      ],
      "text/plain": [
       "   user_id        time  ques_quant  av_grade  lec_watched  expl_watched  \\\n",
       "0      115   668090043          46  0.695652            0             6   \n",
       "1      124      571323          30  0.233333            0             0   \n",
       "2     2746      835457          19  0.578947            1            11   \n",
       "3     5382  2101551456         125  0.672000            3           113   \n",
       "4     8623   862338736         109  0.642202            3            96   \n",
       "\n",
       "      ques_time  \n",
       "0  19933.310547  \n",
       "1  18793.000000  \n",
       "2  18055.554688  \n",
       "3  36048.386719  \n",
       "4  26107.408203  "
      ]
     },
     "execution_count": 89,
     "metadata": {},
     "output_type": "execute_result"
    }
   ],
   "source": [
    "students.head()"
   ]
  },
  {
   "cell_type": "code",
   "execution_count": 95,
   "id": "cbfc7d47",
   "metadata": {},
   "outputs": [],
   "source": [
    "# Построим новый столбец с группировкой по кол-ву правильных ответов \n",
    "def expl_convert(e):\n",
    "    if e < students['expl_watched'].quantile(0.1): return 0\n",
    "    elif e < students['expl_watched'].quantile(0.2): return 1\n",
    "    elif e < students['expl_watched'].quantile(0.3): return 2\n",
    "    elif e < students['expl_watched'].quantile(0.4): return 3\n",
    "    elif e < students['expl_watched'].quantile(0.5): return 4\n",
    "    elif e < students['expl_watched'].quantile(0.6): return 5\n",
    "    elif e < students['expl_watched'].quantile(0.7): return 6\n",
    "    elif e < students['expl_watched'].quantile(0.8): return 7\n",
    "    elif e < students['expl_watched'].quantile(0.9): return 8\n",
    "    else: return 9\n",
    "students['e_group'] = students['expl_watched'].apply(expl_convert)"
   ]
  },
  {
   "cell_type": "code",
   "execution_count": 96,
   "id": "f2d0fdd1",
   "metadata": {},
   "outputs": [
    {
     "data": {
      "text/plain": [
       "<AxesSubplot:title={'center':'av_grade'}, xlabel='[e_group]'>"
      ]
     },
     "execution_count": 96,
     "metadata": {},
     "output_type": "execute_result"
    },
    {
     "data": {
      "image/png": "[encoded data removed]",
      "text/plain": [
       "<Figure size 432x288 with 1 Axes>"
      ]
     },
     "metadata": {
      "needs_background": "light"
     },
     "output_type": "display_data"
    }
   ],
   "source": [
    "# Оценка явно зависит от кол-ва просмотренных объяснений\n",
    "students.boxplot(column=['av_grade'], by=['e_group'])"
   ]
  },
  {
   "cell_type": "code",
   "execution_count": null,
   "id": "6f7246fa",
   "metadata": {},
   "outputs": [],
   "source": [
    "# Аналогично помотрим зависимость с другими параметрами (на примере времени на ответ)"
   ]
  },
  {
   "cell_type": "code",
   "execution_count": 100,
   "id": "f67b9055",
   "metadata": {},
   "outputs": [
    {
     "data": {
      "text/plain": [
       "<AxesSubplot:title={'center':'ques_time'}, xlabel='[e_group]'>"
      ]
     },
     "execution_count": 100,
     "metadata": {},
     "output_type": "execute_result"
    },
    {
     "data": {
      "image/png": "[encoded data removed]",
      "text/plain": [
       "<Figure size 432x288 with 1 Axes>"
      ]
     },
     "metadata": {
      "needs_background": "light"
     },
     "output_type": "display_data"
    }
   ],
   "source": [
    "students.boxplot(column=['ques_time'], by=['e_group'])"
   ]
  },
  {
   "cell_type": "code",
   "execution_count": null,
   "id": "4534fbf9",
   "metadata": {},
   "outputs": [],
   "source": [
    "# Зависимость от кол-ва времени на ответ не так явна. "
   ]
  },
  {
   "cell_type": "code",
   "execution_count": null,
   "id": "a66f4b6a",
   "metadata": {},
   "outputs": [],
   "source": [
    "# Следующим шагом добавим следующий файл в анализируемые данные. "
   ]
  },
  {
   "cell_type": "code",
   "execution_count": 102,
   "id": "56369c09",
   "metadata": {},
   "outputs": [
    {
     "name": "stdout",
     "output_type": "stream",
     "text": [
      "<class 'pandas.core.frame.DataFrame'>\n",
      "RangeIndex: 13523 entries, 0 to 13522\n",
      "Data columns (total 5 columns):\n",
      " #   Column          Non-Null Count  Dtype \n",
      "---  ------          --------------  ----- \n",
      " 0   question_id     13523 non-null  int16 \n",
      " 1   bundle_id       13523 non-null  int16 \n",
      " 2   correct_answer  13523 non-null  int8  \n",
      " 3   part            13523 non-null  int8  \n",
      " 4   tags            13522 non-null  object\n",
      "dtypes: int16(2), int8(2), object(1)\n",
      "memory usage: 185.0+ KB\n"
     ]
    }
   ],
   "source": [
    "questions = pd.read_csv('C:\\\\Users\\\\shere\\\\OneDrive\\\\Рабочий стол\\\\MFTI\\\\Python\\\\HW 3 - Pandas\\\\questions.csv', sep=',',\n",
    "                        dtype = {'question_id': 'int16', 'bundle_id': 'int16', 'correct_answer': 'int8',\n",
    "                                 'part': 'int8', 'tags': 'object'\n",
    "                               })\n",
    "questions.info()"
   ]
  },
  {
   "cell_type": "code",
   "execution_count": 104,
   "id": "93dfdc82",
   "metadata": {},
   "outputs": [
    {
     "data": {
      "text/html": [
       "<div>\n",
       "<style scoped>\n",
       "    .dataframe tbody tr th:only-of-type {\n",
       "        vertical-align: middle;\n",
       "    }\n",
       "\n",
       "    .dataframe tbody tr th {\n",
       "        vertical-align: top;\n",
       "    }\n",
       "\n",
       "    .dataframe thead th {\n",
       "        text-align: right;\n",
       "    }\n",
       "</style>\n",
       "<table border=\"1\" class=\"dataframe\">\n",
       "  <thead>\n",
       "    <tr style=\"text-align: right;\">\n",
       "      <th></th>\n",
       "      <th>question_id</th>\n",
       "      <th>bundle_id</th>\n",
       "      <th>correct_answer</th>\n",
       "      <th>part</th>\n",
       "      <th>tags</th>\n",
       "    </tr>\n",
       "  </thead>\n",
       "  <tbody>\n",
       "    <tr>\n",
       "      <th>0</th>\n",
       "      <td>0</td>\n",
       "      <td>0</td>\n",
       "      <td>0</td>\n",
       "      <td>1</td>\n",
       "      <td>51 131 162 38</td>\n",
       "    </tr>\n",
       "    <tr>\n",
       "      <th>1</th>\n",
       "      <td>1</td>\n",
       "      <td>1</td>\n",
       "      <td>1</td>\n",
       "      <td>1</td>\n",
       "      <td>131 36 81</td>\n",
       "    </tr>\n",
       "    <tr>\n",
       "      <th>2</th>\n",
       "      <td>2</td>\n",
       "      <td>2</td>\n",
       "      <td>0</td>\n",
       "      <td>1</td>\n",
       "      <td>131 101 162 92</td>\n",
       "    </tr>\n",
       "    <tr>\n",
       "      <th>3</th>\n",
       "      <td>3</td>\n",
       "      <td>3</td>\n",
       "      <td>0</td>\n",
       "      <td>1</td>\n",
       "      <td>131 149 162 29</td>\n",
       "    </tr>\n",
       "    <tr>\n",
       "      <th>4</th>\n",
       "      <td>4</td>\n",
       "      <td>4</td>\n",
       "      <td>3</td>\n",
       "      <td>1</td>\n",
       "      <td>131 5 162 38</td>\n",
       "    </tr>\n",
       "  </tbody>\n",
       "</table>\n",
       "</div>"
      ],
      "text/plain": [
       "   question_id  bundle_id  correct_answer  part            tags\n",
       "0            0          0               0     1   51 131 162 38\n",
       "1            1          1               1     1       131 36 81\n",
       "2            2          2               0     1  131 101 162 92\n",
       "3            3          3               0     1  131 149 162 29\n",
       "4            4          4               3     1    131 5 162 38"
      ]
     },
     "execution_count": 104,
     "metadata": {},
     "output_type": "execute_result"
    }
   ],
   "source": [
    "questions.head()"
   ]
  },
  {
   "cell_type": "code",
   "execution_count": 105,
   "id": "7e5f8c05",
   "metadata": {},
   "outputs": [],
   "source": [
    "# question_id: foreign key for the train/test content_id column, when the content type is question (0).\n",
    "# bundle_id: code for which questions are served together.\n",
    "# correct_answer: the answer to the question. Can be compared with the train user_answer column to check if the user was right.\n",
    "# part: the relevant section of the TOEIC test.\n",
    "# tags: one or more detailed tag codes for the question. The meaning of the tags will not be provided, but these codes are sufficient for clustering the questions together."
   ]
  },
  {
   "cell_type": "code",
   "execution_count": 106,
   "id": "a1d4f427",
   "metadata": {},
   "outputs": [
    {
     "data": {
      "text/html": [
       "<div>\n",
       "<style scoped>\n",
       "    .dataframe tbody tr th:only-of-type {\n",
       "        vertical-align: middle;\n",
       "    }\n",
       "\n",
       "    .dataframe tbody tr th {\n",
       "        vertical-align: top;\n",
       "    }\n",
       "\n",
       "    .dataframe thead th {\n",
       "        text-align: right;\n",
       "    }\n",
       "</style>\n",
       "<table border=\"1\" class=\"dataframe\">\n",
       "  <thead>\n",
       "    <tr style=\"text-align: right;\">\n",
       "      <th></th>\n",
       "      <th>Column_Name</th>\n",
       "      <th>Num_Unique</th>\n",
       "      <th>Type</th>\n",
       "    </tr>\n",
       "  </thead>\n",
       "  <tbody>\n",
       "    <tr>\n",
       "      <th>0</th>\n",
       "      <td>correct_answer</td>\n",
       "      <td>4</td>\n",
       "      <td>int8</td>\n",
       "    </tr>\n",
       "    <tr>\n",
       "      <th>1</th>\n",
       "      <td>part</td>\n",
       "      <td>7</td>\n",
       "      <td>int8</td>\n",
       "    </tr>\n",
       "    <tr>\n",
       "      <th>2</th>\n",
       "      <td>tags</td>\n",
       "      <td>1519</td>\n",
       "      <td>object</td>\n",
       "    </tr>\n",
       "    <tr>\n",
       "      <th>3</th>\n",
       "      <td>bundle_id</td>\n",
       "      <td>9765</td>\n",
       "      <td>int16</td>\n",
       "    </tr>\n",
       "    <tr>\n",
       "      <th>4</th>\n",
       "      <td>question_id</td>\n",
       "      <td>13523</td>\n",
       "      <td>int16</td>\n",
       "    </tr>\n",
       "  </tbody>\n",
       "</table>\n",
       "</div>"
      ],
      "text/plain": [
       "      Column_Name  Num_Unique    Type\n",
       "0  correct_answer           4    int8\n",
       "1            part           7    int8\n",
       "2            tags        1519  object\n",
       "3       bundle_id        9765   int16\n",
       "4     question_id       13523   int16"
      ]
     },
     "metadata": {},
     "output_type": "display_data"
    }
   ],
   "source": [
    "unique_list_q = []\n",
    "for col in questions.columns:\n",
    "    item = (col, questions[col].nunique(), questions[col].dtype)\n",
    "    unique_list_q.append(item)\n",
    "unique_counts_q = pd.DataFrame(unique_list_q,\n",
    "                               columns=['Column_Name', 'Num_Unique', 'Type']\n",
    "                              ).sort_values(by='Num_Unique',  ignore_index=True)\n",
    "display(unique_counts_q)"
   ]
  },
  {
   "cell_type": "code",
   "execution_count": null,
   "id": "f1a6b12e",
   "metadata": {},
   "outputs": [],
   "source": [
    "# Мы видим, что 13523 вопроса разбиты на 4 части. Признак Bundle id не кажется интересным, а вот объединение с предыдущей таблицей может показать зависимость правильных ответов в каждой категории "
   ]
  },
  {
   "cell_type": "code",
   "execution_count": 107,
   "id": "b5f3b60a",
   "metadata": {},
   "outputs": [],
   "source": [
    "tmp_df = train.loc[(train.content_type_id == 0), ['content_id', 'answered_correctly']]"
   ]
  },
  {
   "cell_type": "code",
   "execution_count": 108,
   "id": "0e94c4a0",
   "metadata": {},
   "outputs": [
    {
     "data": {
      "text/plain": [
       "13523"
      ]
     },
     "execution_count": 108,
     "metadata": {},
     "output_type": "execute_result"
    }
   ],
   "source": [
    "q_list = list(tmp_df['content_id'].unique())\n",
    "len(q_list)"
   ]
  },
  {
   "cell_type": "code",
   "execution_count": 111,
   "id": "eab089b0",
   "metadata": {},
   "outputs": [
    {
     "name": "stdout",
     "output_type": "stream",
     "text": [
      "<class 'pandas.core.frame.DataFrame'>\n",
      "RangeIndex: 418 entries, 0 to 417\n",
      "Data columns (total 4 columns):\n",
      " #   Column      Non-Null Count  Dtype \n",
      "---  ------      --------------  ----- \n",
      " 0   lecture_id  418 non-null    int16 \n",
      " 1   tag         418 non-null    int16 \n",
      " 2   part        418 non-null    int8  \n",
      " 3   type_of     418 non-null    object\n",
      "dtypes: int16(2), int8(1), object(1)\n",
      "memory usage: 5.4+ KB\n"
     ]
    }
   ],
   "source": [
    "lectures = pd.read_csv('C:\\\\Users\\\\shere\\\\OneDrive\\\\Рабочий стол\\\\MFTI\\\\Python\\\\HW 3 - Pandas\\\\lectures.csv', sep=',',\n",
    "                      dtype = {'lecture_id': 'int16', 'tag': 'int16', \n",
    "                               'part': 'int8', 'type_of': 'object'})\n",
    "lectures.info()"
   ]
  },
  {
   "cell_type": "code",
   "execution_count": 113,
   "id": "9ba01e63",
   "metadata": {},
   "outputs": [
    {
     "data": {
      "text/plain": [
       "415"
      ]
     },
     "execution_count": 113,
     "metadata": {},
     "output_type": "execute_result"
    }
   ],
   "source": [
    "# Для дальнейшего исследования лекций создадим единую таблицу по их ID с данными Train.\n",
    "l_list = list(train[train['content_type_id'] == 1]['content_id'].unique())\n",
    "len(l_list)"
   ]
  },
  {
   "cell_type": "code",
   "execution_count": null,
   "id": "b947332d",
   "metadata": {},
   "outputs": [],
   "source": [
    "# Посчитаем количество просмотров лекций для каждого id\n",
    "\n",
    "l_quant = []\n",
    "for l in l_list:\n",
    "    tmp_l = train[(train['content_id'] == l)]['content_id'].count()\n",
    "    l_quant.append(tmp_l)"
   ]
  }
 ],
 "metadata": {
  "kernelspec": {
   "display_name": "Python 3 (ipykernel)",
   "language": "python",
   "name": "python3"
  },
  "language_info": {
   "codemirror_mode": {
    "name": "ipython",
    "version": 3
   },
   "file_extension": ".py",
   "mimetype": "text/x-python",
   "name": "python",
   "nbconvert_exporter": "python",
   "pygments_lexer": "ipython3",
   "version": "3.9.12"
  }
 },
 "nbformat": 4,
 "nbformat_minor": 5
}
